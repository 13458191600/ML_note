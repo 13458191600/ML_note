{
 "cells": [
  {
   "cell_type": "markdown",
   "id": "8432a681",
   "metadata": {},
   "source": [
    "## Chapter2"
   ]
  },
  {
   "cell_type": "markdown",
   "id": "23c1d5a0",
   "metadata": {},
   "source": [
    "### error rate\n",
    "\n",
    "- training error\n",
    "\n",
    "- generalization error\n",
    "\n",
    "### fitting\n",
    "\n",
    "- training error is low but generalization error  is high\n",
    "\n",
    "  - overfitting\n",
    "\n",
    "    - gets one-to-one function\n",
    "\n",
    "    - can’t be avoided\n",
    "\n",
    "      - P != NP\n",
    "\n",
    "- training error is high\n",
    "\n",
    "  - underfitting\n",
    "\n",
    "- generalization error  is low\n",
    "\n",
    "  - nice model"
   ]
  },
  {
   "cell_type": "markdown",
   "id": "23ff6510",
   "metadata": {},
   "source": [
    "### model selection \n",
    "\n",
    "- divide dataset into training and test space\n",
    "\n",
    "  - hold out\n",
    "\n",
    "    - label :Uniform distribution better\n",
    "\n",
    "    - Randomly divide and average\n",
    "\n",
    "    - When the test set is small, the variance of the evaluation result is large\n",
    "\n",
    "    - When the training set is small, the evaluation result has a large deviation \n",
    "\n",
    "    - 2/3-4/5 for training"
   ]
  },
  {
   "cell_type": "code",
   "execution_count": null,
   "id": "3ec086ed",
   "metadata": {},
   "outputs": [],
   "source": []
  },
  {
   "cell_type": "markdown",
   "id": "7147d7e0",
   "metadata": {},
   "source": [
    "  - cross vaidation\n",
    "\n",
    "    - k-fold cross vaidation\n",
    "\n",
    "      - k- 10\n",
    "\n",
    "      - k=1\n",
    "\n",
    "        - all data\n",
    "#### What is cross-validation?\n",
    "In cross-validation, we run our modeling process on different subsets of the data to get multiple measures of model quality.\n",
    "        <img src=\"cross_validation.png\"/>"
   ]
  },
  {
   "cell_type": "code",
   "execution_count": 2,
   "id": "4a20564e",
   "metadata": {},
   "outputs": [],
   "source": [
    "from sklearn.ensemble import RandomForestRegressor\n",
    "from sklearn.pipeline import Pipeline\n",
    "from sklearn.impute import SimpleImputer\n",
    "\n",
    "my_pipeline = Pipeline(steps=[\n",
    "    ('preprocessor', SimpleImputer()),\n",
    "    ('model', RandomForestRegressor(n_estimators=50, random_state=0))\n",
    "])"
   ]
  },
  {
   "cell_type": "code",
   "execution_count": null,
   "id": "eb96d9e8",
   "metadata": {},
   "outputs": [],
   "source": [
    "from sklearn.model_selection import cross_val_score\n",
    "\n",
    "# Multiply by -1 since sklearn calculates *negative* MAE\n",
    "scores = -1 * cross_val_score(my_pipeline, X, y,\n",
    "                              cv=5, #dividing the data into 5 pieces\n",
    "                              scoring='neg_mean_absolute_error')\n",
    "\n",
    "print(\"Average MAE score:\", scores.mean())"
   ]
  },
  {
   "cell_type": "markdown",
   "id": "921d8b10",
   "metadata": {},
   "source": [
    "  - bootstrapping\n",
    "\n",
    "    - default\n",
    "\n",
    "      - Estimated Bias\n",
    "\n",
    "    - virtue\n",
    "\n",
    "      - small dataset\n",
    "\n",
    "      - Integrated learning"
   ]
  },
  {
   "cell_type": "code",
   "execution_count": null,
   "id": "a5c36c4a",
   "metadata": {},
   "outputs": [],
   "source": []
  }
 ],
 "metadata": {
  "kernelspec": {
   "display_name": "Python 3",
   "language": "python",
   "name": "python3"
  },
  "language_info": {
   "codemirror_mode": {
    "name": "ipython",
    "version": 3
   },
   "file_extension": ".py",
   "mimetype": "text/x-python",
   "name": "python",
   "nbconvert_exporter": "python",
   "pygments_lexer": "ipython3",
   "version": "3.8.8"
  }
 },
 "nbformat": 4,
 "nbformat_minor": 5
}
