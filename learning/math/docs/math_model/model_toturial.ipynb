{
 "cells": [
  {
   "cell_type": "markdown",
   "metadata": {},
   "source": [
    "# 数模准备指南\n",
    "## 工具篇"
   ]
  },
  {
   "cell_type": "markdown",
   "metadata": {},
   "source": [
    "### matlab"
   ]
  },
  {
   "cell_type": "markdown",
   "metadata": {},
   "source": [
    "<a href=\"https://matlabacademy.mathworks.com/cn/?s_tid=acport_mlac_sp_bann\">官网学习<a>\n",
    "！掌握基础用法，可视化，矩阵运算就行，用的时候百度，csdn，google，github 找代码更改即可，要掌握对代码的读改能力"
   ]
  },
  {
   "cell_type": "markdown",
   "metadata": {},
   "source": [
    "### python\n",
    "#### 掌握基础用法\n",
    "#### 矩阵数组运算<a href=\"https://numpy.org/doc/stable/user/quickstart.html\">numpy</a>\\\n",
    "#### 绘图可视化 \n",
    "<a href=\"https://matplotlib.org/stable/tutorials/introductory/usage.html\">matplotlib官网</a>\\\n",
    "<a href=\"https://datawhalechina.github.io/fantastic-matplotlib/\">推荐学习资料（官网精华中文版）</a>\\\n",
    "——————————————————————————————————————————————————一般掌握前三项即可\n",
    "#### 做大数据分析【做数据分析类题必用】<a href=\"https://pandas.pydata.org/docs/getting_started/intro_tutorials/01_table_oriented.html#min-tut-01-tableoriented\">pandas</a>\\\n",
    "#### 科学计算（函数，模型，解方程调用包）：,一般比赛时，在官网手册上查看函数API用法<a href=\"https://docs.scipy.org/doc/scipy/reference/\">scipy</a>\n",
    "#### 数据科学算法\n",
    "<a href=\"https://apachecn.gitee.io/ailearning/#/\">推荐学习资料</a>这个网站上内容很全，前几章是python基础内容，按需索取就行\\"
   ]
  },
  {
   "cell_type": "markdown",
   "metadata": {},
   "source": [
    "### 可视化"
   ]
  },
  {
   "cell_type": "markdown",
   "metadata": {},
   "source": [
    "除了前面两个，还有\\\n",
    "<a href=\"https://www.processon.com/\">proceess on</a>\\\n",
    "<a href=\"https://support.microsoft.com/zh-cn/office/visio-%E5%88%9D%E5%AD%A6%E8%80%85%E6%95%99%E7%A8%8B-bc1605de-d9f3-4c3a-970c-19876386047c?redirectsourcepath=%252fzh-cn%252farticle%252fvisio-%2525e7%25259a%252584%2525e6%252595%252599%2525e7%2525a8%25258b-c8fd9b8b-6e8c-4252-937d-a0eea0cddd94\">visio</a>\\\n",
    "其他常用的origin，PPT，excel就不说了"
   ]
  },
  {
   "cell_type": "markdown",
   "metadata": {},
   "source": [
    "## 理论篇"
   ]
  },
  {
   "cell_type": "markdown",
   "metadata": {},
   "source": [
    "![](89792bd3161127d2f713ee4ae4835d1d.jpg)"
   ]
  },
  {
   "cell_type": "markdown",
   "metadata": {},
   "source": [
    "这个见人见智，按需索取就行"
   ]
  },
  {
   "cell_type": "markdown",
   "metadata": {},
   "source": [
    "## 写作"
   ]
  },
  {
   "cell_type": "markdown",
   "metadata": {},
   "source": [
    "<a href=\"https://www.latexstudio.net/texdoc/#/29?page_id=155\">latex</a>\\\n",
    "<a href=\"https://www.latexlive.com\">latex 在线编辑器，忘公式必备</a>"
   ]
  },
  {
   "cell_type": "markdown",
   "metadata": {},
   "source": [
    "# 赛事推荐"
   ]
  },
  {
   "cell_type": "markdown",
   "metadata": {},
   "source": [
    "## <a href=\"https://www.kaggle.com/c/santa-2021/overview\">最小超排列kaggle</a>\n",
    "<a href=\"https://mp.weixin.qq.com/s/ww_5W928kV0u8B29oIPi2Q\">简介</a>"
   ]
  },
  {
   "cell_type": "markdown",
   "metadata": {},
   "source": [
    "可以逛逛讨论区获取思路（https://www.kaggle.com/c/santa-2021/discussion）"
   ]
  },
  {
   "cell_type": "markdown",
   "metadata": {},
   "source": [
    "<a href=\"http://www.gregegan.net/SCIENCE/Superpermutations/Superpermutations.html\">最小超排列数学背景</a>"
   ]
  }
 ],
 "metadata": {
  "hide_input": false,
  "kernelspec": {
   "display_name": "Python 3",
   "language": "python",
   "name": "python3"
  },
  "language_info": {
   "codemirror_mode": {
    "name": "ipython",
    "version": 3
   },
   "file_extension": ".py",
   "mimetype": "text/x-python",
   "name": "python",
   "nbconvert_exporter": "python",
   "pygments_lexer": "ipython3",
   "version": "3.8.5"
  },
  "toc": {
   "base_numbering": 1,
   "nav_menu": {},
   "number_sections": true,
   "sideBar": true,
   "skip_h1_title": false,
   "title_cell": "Table of Contents",
   "title_sidebar": "Contents",
   "toc_cell": false,
   "toc_position": {},
   "toc_section_display": true,
   "toc_window_display": false
  },
  "varInspector": {
   "cols": {
    "lenName": 16,
    "lenType": 16,
    "lenVar": 40
   },
   "kernels_config": {
    "python": {
     "delete_cmd_postfix": "",
     "delete_cmd_prefix": "del ",
     "library": "var_list.py",
     "varRefreshCmd": "print(var_dic_list())"
    },
    "r": {
     "delete_cmd_postfix": ") ",
     "delete_cmd_prefix": "rm(",
     "library": "var_list.r",
     "varRefreshCmd": "cat(var_dic_list()) "
    }
   },
   "types_to_exclude": [
    "module",
    "function",
    "builtin_function_or_method",
    "instance",
    "_Feature"
   ],
   "window_display": false
  }
 },
 "nbformat": 4,
 "nbformat_minor": 5
}
