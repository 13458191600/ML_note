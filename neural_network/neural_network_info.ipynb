{
 "cells": [
  {
   "cell_type": "markdown",
   "id": "3792fa43",
   "metadata": {
    "toc": true
   },
   "source": [
    "<h1>Table of Contents<span class=\"tocSkip\"></span></h1>\n",
    "<div class=\"toc\"><ul class=\"toc-item\"><li><span><a href=\"#神经元模型\" data-toc-modified-id=\"神经元模型-1\"><span class=\"toc-item-num\">1&nbsp;&nbsp;</span>神经元模型</a></span><ul class=\"toc-item\"><li><span><a href=\"#M-P神经元\" data-toc-modified-id=\"M-P神经元-1.1\"><span class=\"toc-item-num\">1.1&nbsp;&nbsp;</span>M-P神经元</a></span></li></ul></li><li><span><a href=\"#感知机\" data-toc-modified-id=\"感知机-2\"><span class=\"toc-item-num\">2&nbsp;&nbsp;</span>感知机</a></span><ul class=\"toc-item\"><li><span><a href=\"#模型表述\" data-toc-modified-id=\"模型表述-2.1\"><span class=\"toc-item-num\">2.1&nbsp;&nbsp;</span>模型表述</a></span></li><li><span><a href=\"#学习策略\" data-toc-modified-id=\"学习策略-2.2\"><span class=\"toc-item-num\">2.2&nbsp;&nbsp;</span>学习策略</a></span></li><li><span><a href=\"#神经网络\" data-toc-modified-id=\"神经网络-2.3\"><span class=\"toc-item-num\">2.3&nbsp;&nbsp;</span>神经网络</a></span></li><li><span><a href=\"#BP神经网络算法\" data-toc-modified-id=\"BP神经网络算法-2.4\"><span class=\"toc-item-num\">2.4&nbsp;&nbsp;</span>BP神经网络算法</a></span></li><li><span><a href=\"#神经网络\" data-toc-modified-id=\"神经网络-2.5\"><span class=\"toc-item-num\">2.5&nbsp;&nbsp;</span>神经网络</a></span></li><li><span><a href=\"#BP神经网络算法\" data-toc-modified-id=\"BP神经网络算法-2.6\"><span class=\"toc-item-num\">2.6&nbsp;&nbsp;</span>BP神经网络算法</a></span></li><li><span><a href=\"#5.10\" data-toc-modified-id=\"5.10-2.7\"><span class=\"toc-item-num\">2.7&nbsp;&nbsp;</span>5.10</a></span></li><li><span><a href=\"#5.12\" data-toc-modified-id=\"5.12-2.8\"><span class=\"toc-item-num\">2.8&nbsp;&nbsp;</span>5.12</a></span></li><li><span><a href=\"#5.13\" data-toc-modified-id=\"5.13-2.9\"><span class=\"toc-item-num\">2.9&nbsp;&nbsp;</span>5.13</a></span></li><li><span><a href=\"#5.14\" data-toc-modified-id=\"5.14-2.10\"><span class=\"toc-item-num\">2.10&nbsp;&nbsp;</span>5.14</a></span></li><li><span><a href=\"#全局最小与局部最小\" data-toc-modified-id=\"全局最小与局部最小-2.11\"><span class=\"toc-item-num\">2.11&nbsp;&nbsp;</span>全局最小与局部最小</a></span></li><li><span><a href=\"#深度学习\" data-toc-modified-id=\"深度学习-2.12\"><span class=\"toc-item-num\">2.12&nbsp;&nbsp;</span>深度学习</a></span></li></ul></li><li><span><a href=\"#练习\" data-toc-modified-id=\"练习-3\"><span class=\"toc-item-num\">3&nbsp;&nbsp;</span>练习</a></span><ul class=\"toc-item\"><li><span><a href=\"#入门练习1\" data-toc-modified-id=\"入门练习1-3.1\"><span class=\"toc-item-num\">3.1&nbsp;&nbsp;</span><a href=\"neural_nets_with_keras.ipynb\" target=\"_blank\">入门练习1</a></a></span></li></ul></li></ul></div>"
   ]
  },
  {
   "cell_type": "markdown",
   "id": "20e4e435",
   "metadata": {},
   "source": [
    "# 神经元模型"
   ]
  },
  {
   "cell_type": "markdown",
   "id": "3b4f38e4",
   "metadata": {},
   "source": [
    "## M-P神经元"
   ]
  },
  {
   "cell_type": "markdown",
   "id": "ee7b1a71",
   "metadata": {},
   "source": [
    "神经网络中最基本的单元是神经元模型（neuron）。在生物神经网络的原始机制中，每个神经元通常都有多个树突（dendrite），一个轴突（axon）和一个细胞体（cell body），树突短而多分支，轴突长而只有一个；在功能上，树突用于传入其它神经元传递的神经冲动，而轴突用于将神经冲动传出到其它神经元，当树突或细胞体传入的神经冲动使得神经元兴奋时，该神经元就会通过轴突向其它神经元传递兴奋。神经元的生物学结构如下图所示，\n",
    "![1.png](https://i.loli.net/2018/10/17/5bc72cbb6cc11.png)\n",
    "\n",
    "一直沿用至今的“M-P神经元模型”正是对这一结构进行了抽象，也称“阈值逻辑单元“，其中树突对应于输入部分，每个神经元收到n个其他神经元传递过来的输入信号，这些信号通过带权重的连接传递给细胞体，这些权重又称为连接权（connection weight）。细胞体分为两部分，前一部分计算总输入值（即输入信号的加权和，或者说累积电平），后一部分先计算总输入值与该神经元阈值的差值，然后通过激活函数（activation function）的处理，产生输出从轴突传送给其它神经元。\\\n",
    "activation function : H(X) 阶跃函数, 其导数 为 δ函数是（在实数线上的一个函数，在原点上无限，在所有其他点上为零，\n",
    "\n",
    "${\\displaystyle \\delta (x)={\\begin{cases}+\\infty ,&x=0\\\\0,&x\\neq 0\\end{cases}}}$\n",
    "并同时满足以下条件\n",
    "\n",
    "${\\displaystyle \\int _{-\\infty }^{\\infty }\\delta (x)\\,dx=1.}$ ————感知机\n",
    "\n",
    "sigmoid 函数  —— 对数几率回归\n",
    "\n",
    "M-P神经元模型如下图所示：\n",
    "\n",
    "![2.png](https://i.loli.net/2018/10/17/5bc72cbb7be44.png)\n",
    "\n",
    "与线性分类十分相似，神经元模型最理想的激活函数也是阶跃函数，即将神经元输入值与阈值的差值映射为输出值1或0，若差值大于零输出1，对应兴奋；若差值小于零则输出0，对应抑制。但阶跃函数不连续，不光滑，故在M-P神经元模型中，也采用Sigmoid函数来近似， Sigmoid函数将较大范围内变化的输入值挤压到 (0,1) 输出值范围内，所以也称为挤压函数（squashing function）。\n",
    "\n",
    "![3.png](https://i.loli.net/2018/10/17/5bc72cbb40dc5.png)\n"
   ]
  },
  {
   "cell_type": "markdown",
   "id": "8f22f5f6",
   "metadata": {},
   "source": [
    "将多个神经元按一定的层次结构连接起来，就得到了神经网络。它是一种包含多个参数的模型，比方说10个神经元两两连接，则有100个参数需要学习（每个神经元有9个连接权以及1个阈值），若将每个神经元都看作一个函数，则整个神经网络就是由这些函数相互嵌套而成。"
   ]
  },
  {
   "cell_type": "markdown",
   "id": "9873c7ba",
   "metadata": {},
   "source": [
    "# 感知机\n",
    "## 模型表述\n",
    "感知机（Perceptron）是由两层神经元组成的一个简单模型，但只有输出层是M-P神经元，即只有输出层神经元进行激活函数处理，也称为功能神经元（functional neuron）；输入层只是接受外界信号（样本属性）并传递给输出层（输入层的神经元个数等于样本的属性数目），而没有激活函数。这样一来，感知机与之前线性模型中的对数几率回归的思想基本是一样的，都是通过对属性加权与另一个常数求和，再使用sigmoid函数将这个输出值压缩到0-1之间，从而解决分类问题。不同的是感知机的输出层应该可以有多个神经元，从而可以实现多分类问题，同时两个模型所用的参数估计方法十分不同。\n",
    "\n",
    "给定训练集，则感知机的n+1个参数（n个权重+1个阈值）都可以通过学习得到。阈值Θ可以看作一个输入值固定为-1的哑结点的权重ωn+1，即假设有一个固定输入xn+1=-1的输入层神经元，其对应的权重为ωn+1，这样就把权重和阈值统一为权重的学习了。简单感知机的结构如下图所示：\n",
    "\n",
    "![4.png](https://i.loli.net/2018/10/17/5bc72cbb3fdf0.png)"
   ]
  },
  {
   "cell_type": "markdown",
   "id": "0c8af4c6",
   "metadata": {},
   "source": [
    "![4.png](imgs/sen.png)"
   ]
  },
  {
   "cell_type": "markdown",
   "id": "699bbe0a",
   "metadata": {},
   "source": [
    "感知机的目的是求得将数据集线性可分的超平面，其中$w^Tx-\\theta=0$为超平面方程，事实上$\\lambda(w^Tx-\\theta)=0$也是同样的超平面方程\n",
    "\n",
    "对超平面的一个向量，由$w^Tx_1-\\theta=0$和$w^Tx_2-\\theta=0$得到$w^T(x_1-x_2)=0=w^T(X)$所以W垂直于超平面，\\\n",
    "同时，$W^Tx-\\theta>0$表示X数据点位于超平面上，即正空间;否则，在负空间；"
   ]
  },
  {
   "cell_type": "markdown",
   "id": "5e6362cb",
   "metadata": {},
   "source": [
    "## 学习策略"
   ]
  },
  {
   "cell_type": "markdown",
   "id": "2f153d0f",
   "metadata": {},
   "source": [
    "感知机模型的学习问题可以转化为求解损失函数的最优化问题，具体地，给定数据集\n",
    "\n",
    "$$T=\\{(\\boldsymbol{x}_1,y_1),(\\boldsymbol{x}_2,y_2),\\dots,(\\boldsymbol{x}_N,y_N)\\}$$\n",
    "其中$\\boldsymbol{x}_i \\in \\mathbb{R}^n,y_i \\in \\{0,1\\}$，求参数$\\boldsymbol{w},\\theta$，使其为极小化损失函数的解：\n",
    "$$\\min\\limits_{\\boldsymbol{w},\\theta}L(\\boldsymbol{w},\\theta)=\\min\\limits_{\\boldsymbol{w},\\theta}\\sum_{\\boldsymbol{x_i}\\in M}(\\hat{y}_i-y_i)(\\boldsymbol{w}^\\mathrm{T}\\boldsymbol{x}_i-\\theta)$$\n",
    "其中$M\\subseteq T$为误分类样本集合。若将阈值$\\theta$看作一个固定输入为$-1$的“哑节点”，即\n",
    "$$-\\theta=-1\\cdot w_{n+1}=x_{n+1}\\cdot w_{n+1}$$\n",
    "那么$\\boldsymbol{w}^\\mathrm{T}\\boldsymbol{x}_i-\\theta$可化简为\n",
    "$$\\begin{aligned}\n",
    "\\boldsymbol{w}^\\mathrm{T}\\boldsymbol{x_i}-\\theta&=\\sum \\limits_{j=1}^n w_jx_j+x_{n+1}\\cdot w_{n+1}\\\\\n",
    "&=\\sum \\limits_{j=1}^{n+1}w_jx_j\\\\\n",
    "&=\\boldsymbol{w}^{\\mathrm{T}}\\boldsymbol{x_i}\n",
    " \\end{aligned}$$\n",
    "其中$\\boldsymbol{x_i} \\in \\mathbb{R}^{n+1},\\boldsymbol{w} \\in \\mathbb{R}^{n+1}$。根据该式，可将要求解的极小化问题进一步简化为\n",
    "$$\\min\\limits_{\\boldsymbol{w}}L(\\boldsymbol{w})=\\min\\limits_{\\boldsymbol{w}}\\sum_{\\boldsymbol{x_i}\\in M}(\\hat{y}_i-y_i)\\boldsymbol{w}^\\mathrm{T}\\boldsymbol{x_i}$$\n",
    "假设误分类样本集合$M$固定，那么可以求得损失函数$L(\\boldsymbol{w})$的梯度为：\n",
    "$$\\nabla_{\\boldsymbol{w}}L(\\boldsymbol{w})=\\sum_{\\boldsymbol{x_i}\\in M}(\\hat{y}_i-y_i)\\boldsymbol{x_i}$$\n",
    "感知机的学习算法具体采用的是随机梯度下降法，也就是极小化过程中不是一次使$M$中所有误分类点的梯度下降，而是一次随机选取一个误分类点使其梯度下降。所以权重$\\boldsymbol{w}$的更新公式为\n",
    "$$\\boldsymbol w \\leftarrow \\boldsymbol w+\\Delta \\boldsymbol w$$\n",
    "$$\\Delta \\boldsymbol w=-\\eta(\\hat{y}_i-y_i)\\boldsymbol x_i=\\eta(y_i-\\hat{y}_i)\\boldsymbol x_i$$\n",
    "相应地，$\\boldsymbol{w}$中的某个分量$w_i$的更新公式如下。"
   ]
  },
  {
   "cell_type": "markdown",
   "id": "f152fe39",
   "metadata": {},
   "source": [
    "\n",
    "\n",
    "![5.png](https://i.loli.net/2018/10/17/5bc72cbb3ba63.png)\n",
    "\n",
    "其中 η∈（0，1）称为学习率，可以看出感知机是通过逐个样本输入来更新权重，首先设定好初始权重（一般为随机），逐个地输入样本数据，若输出值与真实标记相同则继续输入下一个样本，若不一致则更新权重，然后再重新逐个检验，直到每个样本数据的输出值都与真实标记相同。容易看出：感知机模型总是能将训练数据的每一个样本都预测正确，和决策树模型总是能将所有训练数据都分开一样，感知机模型很容易产生过拟合问题。"
   ]
  },
  {
   "cell_type": "markdown",
   "id": "e8c59e2f",
   "metadata": {},
   "source": [
    "## 神经网络\n",
    "由于感知机模型只有一层功能神经元，因此其功能十分有限，只能处理线性可分的问题，对于这类问题，感知机的学习过程一定会收敛（converge），因此总是可以求出适当的权值。但是对于像书上提到的异或问题，只通过一层功能神经元往往不能解决，因此要解决非线性可分问题，需要考虑使用多层功能神经元，即神经网络。多层神经网络的拓扑结构如下图所示：\n",
    "\n",
    "![6.png](https://i.loli.net/2018/10/17/5bc72cbb58ec6.png)\n",
    "\n",
    "\n",
    "在神经网络中，输入层与输出层之间的层称为隐含层或隐层（hidden layer），隐层和输出层的神经元都是具有激活函数的功能神经元。只需包含一个隐层便可以称为多层神经网络，常用的神经网络称为“多层前馈神经网络”（multi-layer feedforward neural network），该结构满足以下几个特点：\n",
    "\n",
    "\t* 每层神经元与下一层神经元之间完全互连\n",
    "\t* 神经元之间不存在同层连接\n",
    "\t* 神经元之间不存在跨层连接\n",
    "\n",
    "![7.png](https://i.loli.net/2018/10/17/5bc72cbb47ff8.png)\n",
    "\n",
    "根据上面的特点可以得知：这里的“前馈”指的是网络拓扑结构中不存在环或回路，而不是指该网络只能向前传播而不能向后传播（下节中的BP神经网络正是基于前馈神经网络而增加了反馈调节机制）。神经网络的学习过程就是根据训练数据来调整神经元之间的“连接权”以及每个神经元的阈值，换句话说：神经网络所学习到的东西都蕴含在网络的连接权与阈值中。\n",
    "\n",
    "## BP神经网络算法\n",
    "\n",
    "由上面可以得知：神经网络的学习主要蕴含在权重和阈值中，多层网络使用上面简单感知机的权重调整规则显然不够用了，BP神经网络算法即误差逆传播算法（error BackPropagation）正是为学习多层前馈神经网络而设计，BP神经网络算法是迄今为止最成功的的神经网络学习算法。\n",
    "\n",
    "一般而言，只需包含一个足够多神经元的隐层，就能以任意精度逼近任意复杂度的连续函数[Hornik et al.,1989]，故下面以训练单隐层的前馈神经网络为例，介绍BP神经网络的算法思想。\n",
    "\n",
    "![8.png](https://i.loli.net/2018/10/17/5bc72cbb92ff5.png)\n",
    "\n",
    "上图为一个单隐层前馈神经网络的拓扑结构，BP神经网络算法也使用梯度下降法（gradient descent），以单个样本的均方误差的负梯度方向对权重进行调节。可以看出：BP算法首先将误差反向传播给隐层神经元，调节隐层到输出层的连接权重与输出层神经元的阈值；接着根据隐含层神经元的均方误差，来调节输入层到隐含层的连接权值与隐含层神经元的阈值。BP算法基本的推导过程与感知机的推导过程原理是相同的，下面给出调整隐含层到输出层的权重调整规则的推导过程：\n",
    "$$\\begin{aligned}\n",
    "g_j&=-\\frac{\\partial {E_k}}{\\partial{\\hat{y}_j^k}} \\cdot \\frac{\\partial{\\hat{y}_j^k}}{\\partial{\\beta_j}}\n",
    "\\\\&=-( \\hat{y}_j^k-y_j^k ) f ^{\\prime} (\\beta_j-\\theta_j)\n",
    "\\\\&=\\hat{y}_j^k(1-\\hat{y}_j^k)(y_j^k-\\hat{y}_j^k)\n",
    "\\end{aligned}$$\n",
    "\n",
    "![9.png](https://i.loli.net/2018/10/17/5bc72cbb86229.png)\n",
    "\n",
    "学习率η∈（0，1）控制着沿反梯度方向下降的步长，若步长太大则下降太快容易产生震荡，若步长太小则收敛速度太慢，一般地常把η设置为0.1，有时更新权重时会将输出层与隐含层设置为不同的学习率。BP算法的基本流程如下所示：\n",
    "\n",
    "![10.png](https://i.loli.net/2018/10/17/5bc72cbb59e99.png)\n",
    "\n",
    "BP算法的更新规则是基于每个样本的预测值与真实类标的均方误差来进行权值调节，即BP算法每次更新只针对于单个样例。需要注意的是：BP算法的最终目标是要最小化整个训练集D上的累积误差，即：\n",
    "\n",
    "![11.png](https://i.loli.net/2018/10/17/5bc72ce222a96.png)\n",
    "\n",
    "如果基于累积误差最小化的更新规则，则得到了累积误差逆传播算法（accumulated error backpropagation），即每次读取全部的数据集一遍，进行一轮学习，从而基于当前的累积误差进行权值调整，因此参数更新的频率相比标准BP算法低了很多，但在很多任务中，尤其是在数据量很大的时候，往往标准BP算法会获得较好的结果。另外对于如何设置隐层神经元个数的问题，至今仍然没有好的解决方案，常使用“试错法”进行调整。\n",
    "\n",
    "前面提到，BP神经网络强大的学习能力常常容易造成过拟合问题，有以下两种策略来缓解BP网络的过拟合问题：\n",
    "\n",
    "- 早停：将数据分为训练集与测试集，训练集用于学习，测试集用于评估性能，若在训练过程中，训练集的累积误差降低，而测试集的累积误差升高，则停止训练。\n",
    "- 引入正则化（regularization）：基本思想是在累积误差函数中增加一个用于描述网络复杂度的部分，例如所有权值与阈值的平方和，其中λ∈（0,1）用于对累积经验误差与网络复杂度这两项进行折中，常通过交叉验证法来估计。\n",
    "\n",
    "![12.png](https://i.loli.net/2018/10/17/5bc72ce227ff1.png)"
   ]
  },
  {
   "cell_type": "markdown",
   "id": "95d8c1fc",
   "metadata": {},
   "source": [
    "## 神经网络\n",
    "由于感知机模型只有一层功能神经元，因此其功能十分有限，只能处理线性可分的问题，对于这类问题，感知机的学习过程一定会收敛（converge），因此总是可以求出适当的权值。但是对于像书上提到的异或问题，只通过一层功能神经元往往不能解决，因此要解决非线性可分问题，需要考虑使用多层功能神经元，即神经网络。多层神经网络的拓扑结构如下图所示：\n",
    "\n",
    "![6.png](https://i.loli.net/2018/10/17/5bc72cbb58ec6.png)\n",
    "\n",
    "\n",
    "在神经网络中，输入层与输出层之间的层称为隐含层或隐层（hidden layer），隐层和输出层的神经元都是具有激活函数的功能神经元。只需包含一个隐层便可以称为多层神经网络，常用的神经网络称为“多层前馈神经网络”（multi-layer feedforward neural network），该结构满足以下几个特点：\n",
    "\n",
    "\t* 每层神经元与下一层神经元之间完全互连\n",
    "\t* 神经元之间不存在同层连接\n",
    "\t* 神经元之间不存在跨层连接\n",
    "\n",
    "![7.png](https://i.loli.net/2018/10/17/5bc72cbb47ff8.png)\n",
    "\n",
    "根据上面的特点可以得知：这里的“前馈”指的是网络拓扑结构中不存在环或回路，而不是指该网络只能向前传播而不能向后传播（下节中的BP神经网络正是基于前馈神经网络而增加了反馈调节机制）。神经网络的学习过程就是根据训练数据来调整神经元之间的“连接权”以及每个神经元的阈值，换句话说：神经网络所学习到的东西都蕴含在网络的连接权与阈值中。"
   ]
  },
  {
   "cell_type": "markdown",
   "id": "93c518b5",
   "metadata": {},
   "source": [
    "## BP神经网络算法\n",
    "\n",
    "由上面可以得知：神经网络的学习主要蕴含在权重和阈值中，多层网络使用上面简单感知机的权重调整规则显然不够用了，BP神经网络算法即误差逆传播算法（error BackPropagation）正是为学习多层前馈神经网络而设计，BP神经网络算法是迄今为止最成功的的神经网络学习算法。\n",
    "\n",
    "一般而言，只需包含一个足够多神经元的隐层，就能以任意精度逼近任意复杂度的连续函数[Hornik et al.,1989]，故下面以训练单隐层的前馈神经网络为例，介绍BP神经网络的算法思想。\n",
    "\n",
    "![8.png](https://i.loli.net/2018/10/17/5bc72cbb92ff5.png)\n",
    "\n",
    "上图为一个单隐层前馈神经网络的拓扑结构，BP神经网络算法也使用梯度下降法（gradient descent），以单个样本的均方误差的负梯度方向对权重进行调节。可以看出：BP算法首先将误差反向传播给隐层神经元，调节隐层到输出层的连接权重与输出层神经元的阈值；接着根据隐含层神经元的均方误差，来调节输入层到隐含层的连接权值与隐含层神经元的阈值。BP算法基本的推导过程与感知机的推导过程原理是相同的，下面给出调整隐含层到输出层的权重调整规则的推导过程"
   ]
  },
  {
   "cell_type": "markdown",
   "id": "53dd006a",
   "metadata": {},
   "source": [
    "![9.png](imgs/nurl.jpg)\n",
    "## 5.10\n",
    "$$\\begin{aligned}\n",
    "g_j&=-\\frac{\\partial {E_k}}{\\partial{\\hat{y}_j^k}} \\cdot \\frac{\\partial{\\hat{y}_j^k}}{\\partial{\\beta_j}}\n",
    "\\\\&=-( \\hat{y}_j^k-y_j^k ) f ^{\\prime} (\\beta_j-\\theta_j)\n",
    "\\\\&=\\hat{y}_j^k(1-\\hat{y}_j^k)(y_j^k-\\hat{y}_j^k)\n",
    "\\end{aligned}$$\n",
    "[推导]：参见公式(5.12)\n",
    "## 5.12\n",
    "$$\\Delta \\theta_j = -\\eta g_j$$\n",
    "[推导]：因为\n",
    "$$\\Delta \\theta_j = -\\eta \\cfrac{\\partial E_k}{\\partial \\theta_j}$$\n",
    "又\n",
    "$$\n",
    "\\begin{aligned}\t\n",
    "\\cfrac{\\partial E_k}{\\partial \\theta_j} &= \\cfrac{\\partial E_k}{\\partial \\hat{y}_j^k} \\cdot\\cfrac{\\partial \\hat{y}_j^k}{\\partial \\theta_j} \\\\\n",
    "&= \\cfrac{\\partial E_k}{\\partial \\hat{y}_j^k} \\cdot\\cfrac{\\partial [f(\\beta_j-\\theta_j)]}{\\partial \\theta_j} \\\\\n",
    "&=\\cfrac{\\partial E_k}{\\partial \\hat{y}_j^k} \\cdot f^{\\prime}(\\beta_j-\\theta_j) \\times (-1) \\\\\n",
    "&=\\cfrac{\\partial E_k}{\\partial \\hat{y}_j^k} \\cdot f\\left(\\beta_{j}-\\theta_{j}\\right)\\times\\left[1-f\\left(\\beta_{j}-\\theta_{j}\\right)\\right]  \\times (-1) \\\\\n",
    "&=\\cfrac{\\partial E_k}{\\partial \\hat{y}_j^k} \\cdot \\hat{y}_j^k\\left(1-\\hat{y}_j^k\\right)  \\times (-1) \\\\\n",
    "&=\\cfrac{\\partial\\left[ \\cfrac{1}{2} \\sum\\limits_{j=1}^{l}\\left(\\hat{y}_{j}^{k}-y_{j}^{k}\\right)^{2}\\right]}{\\partial \\hat{y}_{j}^{k}} \\cdot \\hat{y}_j^k\\left(1-\\hat{y}_j^k\\right) \\times (-1)  \\\\\n",
    "&=\\cfrac{1}{2}\\times 2(\\hat{y}_j^k-y_j^k)\\times 1 \\cdot\\hat{y}_j^k\\left(1-\\hat{y}_j^k\\right)  \\times (-1) \\\\\n",
    "&=(y_j^k-\\hat{y}_j^k)\\hat{y}_j^k\\left(1-\\hat{y}_j^k\\right)  \\\\\n",
    "&= g_j\n",
    "\\end{aligned}\n",
    "$$\n",
    "所以\n",
    "$$\\Delta \\theta_j = -\\eta \\cfrac{\\partial E_k}{\\partial \\theta_j}=-\\eta g_j$$\n",
    "\n",
    "## 5.13\n",
    "$$\\Delta v_{ih} = \\eta e_h x_i$$\n",
    "[推导]：因为\n",
    "$$\\Delta v_{ih} = -\\eta \\cfrac{\\partial E_k}{\\partial v_{ih}}$$\n",
    "又\n",
    "$$\n",
    "\\begin{aligned}\t\n",
    "\\cfrac{\\partial E_k}{\\partial v_{ih}} &= \\sum_{j=1}^{l} \\cfrac{\\partial E_k}{\\partial \\hat{y}_j^k} \\cdot \\cfrac{\\partial \\hat{y}_j^k}{\\partial \\beta_j} \\cdot \\cfrac{\\partial \\beta_j}{\\partial b_h} \\cdot \\cfrac{\\partial b_h}{\\partial \\alpha_h} \\cdot \\cfrac{\\partial \\alpha_h}{\\partial v_{ih}} \\\\\n",
    "&= \\sum_{j=1}^{l} \\cfrac{\\partial E_k}{\\partial \\hat{y}_j^k} \\cdot \\cfrac{\\partial \\hat{y}_j^k}{\\partial \\beta_j} \\cdot \\cfrac{\\partial \\beta_j}{\\partial b_h} \\cdot \\cfrac{\\partial b_h}{\\partial \\alpha_h} \\cdot x_i \\\\ \n",
    "&= \\sum_{j=1}^{l} \\cfrac{\\partial E_k}{\\partial \\hat{y}_j^k} \\cdot \\cfrac{\\partial \\hat{y}_j^k}{\\partial \\beta_j} \\cdot \\cfrac{\\partial \\beta_j}{\\partial b_h} \\cdot f^{\\prime}(\\alpha_h-\\gamma_h) \\cdot x_i \\\\\n",
    "&= \\sum_{j=1}^{l} \\cfrac{\\partial E_k}{\\partial \\hat{y}_j^k} \\cdot \\cfrac{\\partial \\hat{y}_j^k}{\\partial \\beta_j} \\cdot w_{hj} \\cdot f^{\\prime}(\\alpha_h-\\gamma_h) \\cdot x_i \\\\\n",
    "&= \\sum_{j=1}^{l} (-g_j) \\cdot w_{hj} \\cdot f^{\\prime}(\\alpha_h-\\gamma_h) \\cdot x_i \\\\\n",
    "&= -f^{\\prime}(\\alpha_h-\\gamma_h) \\cdot \\sum_{j=1}^{l} g_j \\cdot w_{hj}  \\cdot x_i\\\\\n",
    "&= -b_h(1-b_h) \\cdot \\sum_{j=1}^{l} g_j \\cdot w_{hj}  \\cdot x_i \\\\\n",
    "&= -e_h \\cdot x_i\n",
    "\\end{aligned}\n",
    "$$\n",
    "所以\n",
    "$$\\Delta v_{ih} =-\\eta \\cfrac{\\partial E_k}{\\partial v_{ih}} =\\eta e_h x_i$$\n",
    "\n",
    "## 5.14\n",
    "$$\\Delta \\gamma_h= -\\eta e_h$$\n",
    "[推导]：因为\n",
    "$$\\Delta \\gamma_h = -\\eta \\cfrac{\\partial E_k}{\\partial \\gamma_h}$$\n",
    "又\n",
    "$$\n",
    "\\begin{aligned}\t\n",
    "\\cfrac{\\partial E_k}{\\partial \\gamma_h} &= \\sum_{j=1}^{l} \\cfrac{\\partial E_k}{\\partial \\hat{y}_j^k} \\cdot \\cfrac{\\partial \\hat{y}_j^k}{\\partial \\beta_j} \\cdot \\cfrac{\\partial \\beta_j}{\\partial b_h} \\cdot \\cfrac{\\partial b_h}{\\partial \\gamma_h} \\\\\n",
    "&= \\sum_{j=1}^{l} \\cfrac{\\partial E_k}{\\partial \\hat{y}_j^k} \\cdot \\cfrac{\\partial \\hat{y}_j^k}{\\partial \\beta_j} \\cdot \\cfrac{\\partial \\beta_j}{\\partial b_h} \\cdot f^{\\prime}(\\alpha_h-\\gamma_h) \\cdot (-1) \\\\\n",
    "&= -\\sum_{j=1}^{l} \\cfrac{\\partial E_k}{\\partial \\hat{y}_j^k} \\cdot \\cfrac{\\partial \\hat{y}_j^k}{\\partial \\beta_j} \\cdot w_{hj} \\cdot f^{\\prime}(\\alpha_h-\\gamma_h)\\\\\n",
    "&= -\\sum_{j=1}^{l} \\cfrac{\\partial E_k}{\\partial \\hat{y}_j^k} \\cdot \\cfrac{\\partial \\hat{y}_j^k}{\\partial \\beta_j} \\cdot w_{hj} \\cdot b_h(1-b_h)\\\\\n",
    "&= \\sum_{j=1}^{l}g_j\\cdot w_{hj} \\cdot b_h(1-b_h)\\\\\n",
    "&=e_h\n",
    "\\end{aligned}\n",
    "$$\n",
    "所以\n",
    "$$\\Delta \\gamma_h=-\\eta\\cfrac{\\partial E_k}{\\partial \\gamma_h} = -\\eta e_h$$"
   ]
  },
  {
   "cell_type": "markdown",
   "id": "7c6c264b",
   "metadata": {},
   "source": [
    "学习率η∈（0，1）控制着沿反梯度方向下降的步长，若步长太大则下降太快容易产生震荡，若步长太小则收敛速度太慢，一般地常把η设置为0.1，有时更新权重时会将输出层与隐含层设置为不同的学习率。BP算法的基本流程如下所示：\n",
    "\n",
    "![10.png](https://i.loli.net/2018/10/17/5bc72cbb59e99.png)\n",
    "\n",
    "BP算法的更新规则是基于每个样本的预测值与真实类标的均方误差来进行权值调节，即BP算法每次更新只针对于单个样例。需要注意的是：BP算法的最终目标是要最小化整个训练集D上的累积误差，即：\n",
    "\n",
    "![11.png](https://i.loli.net/2018/10/17/5bc72ce222a96.png)\n",
    "\n",
    "如果基于累积误差最小化的更新规则，则得到了累积误差逆传播算法（accumulated error backpropagation），即每次读取全部的数据集一遍，进行一轮学习，从而基于当前的累积误差进行权值调整，因此参数更新的频率相比标准BP算法低了很多，但在很多任务中，尤其是在数据量很大的时候，往往标准BP算法会获得较好的结果。另外对于如何设置隐层神经元个数的问题，至今仍然没有好的解决方案，常使用“试错法”进行调整。\n",
    "\n",
    "前面提到，BP神经网络强大的学习能力常常容易造成过拟合问题，有以下两种策略来缓解BP网络的过拟合问题：\n",
    "\n",
    "- 早停：将数据分为训练集与测试集，训练集用于学习，测试集用于评估性能，若在训练过程中，训练集的累积误差降低，而测试集的累积误差升高，则停止训练。\n",
    "- 引入正则化（regularization）：基本思想是在累积误差函数中增加一个用于描述网络复杂度的部分，例如所有权值与阈值的平方和，其中λ∈（0,1）用于对累积经验误差与网络复杂度这两项进行折中，常通过交叉验证法来估计。\n",
    "\n",
    "![12.png](https://i.loli.net/2018/10/17/5bc72ce227ff1.png)"
   ]
  },
  {
   "cell_type": "markdown",
   "id": "8ac7cb82",
   "metadata": {},
   "source": [
    "## 全局最小与局部最小\n",
    "\n",
    "模型学习的过程实质上就是一个寻找最优参数的过程，例如BP算法试图通过最速下降来寻找使得累积经验误差最小的权值与阈值，在谈到最优时，一般会提到局部极小（local minimum）和全局最小（global minimum）。\n",
    "\n",
    "\t* 局部极小解：参数空间中的某个点，其邻域点的误差函数值均不小于该点的误差函数值。\n",
    "\t* 全局最小解：参数空间中的某个点，所有其他点的误差函数值均不小于该点的误差函数值。\n",
    "\n",
    "![13.png](https://i.loli.net/2018/10/17/5bc72ce2803dc.png)\n",
    "\n",
    "要成为局部极小点，只要满足该点在参数空间中的梯度为零。局部极小可以有多个，而全局最小只有一个。全局最小一定是局部极小，但局部最小却不一定是全局最小。显然在很多机器学习算法中，都试图找到目标函数的全局最小。梯度下降法的主要思想就是沿着负梯度方向去搜索最优解，负梯度方向是函数值下降最快的方向，若迭代到某处的梯度为0，则表示达到一个局部最小，参数更新停止。因此在现实任务中，通常使用以下策略尽可能地去接近全局最小。\n",
    "\n",
    "\t* 以多组不同参数值初始化多个神经网络，按标准方法训练，迭代停止后，取其中误差最小的解作为最终参数。\n",
    "\t* 使用“模拟退火”技术，这里不做具体介绍。\n",
    "\t* 使用随机梯度下降，即在计算梯度时加入了随机因素，使得在局部最小时，计算的梯度仍可能不为0，从而迭代可以继续进行。"
   ]
  },
  {
   "cell_type": "markdown",
   "id": "246ab7f0",
   "metadata": {},
   "source": [
    "## 深度学习\n",
    "\n",
    "理论上，参数越多，模型复杂度就越高，容量（capability）就越大，从而能完成更复杂的学习任务。深度学习（deep learning）正是一种极其复杂而强大的模型。\n",
    "\n",
    "怎么增大模型复杂度呢？两个办法，一是增加隐层的数目，二是增加隐层神经元的数目。前者更有效一些，因为它不仅增加了功能神经元的数量，还增加了激活函数嵌套的层数。但是对于多隐层神经网络，经典算法如标准BP算法往往会在误差逆传播时发散（diverge），无法收敛达到稳定状态。\n",
    "\n",
    "那要怎么有效地训练多隐层神经网络呢？一般来说有以下两种方法：\n",
    "\n",
    "- 无监督逐层训练（unsupervised layer-wise training）：每次训练一层隐节点，把上一层隐节点的输出当作输入来训练，本层隐结点训练好后，输出再作为下一层的输入来训练，这称为预训练（pre-training）。全部预训练完成后，再对整个网络进行微调（fine-tuning）训练。一个典型例子就是深度信念网络（deep belief network，简称DBN）。这种做法其实可以视为把大量的参数进行分组，先找出每组较好的设置，再基于这些局部最优的结果来训练全局最优。\n",
    "\n",
    "- 权共享（weight sharing）：令同一层神经元使用完全相同的连接权，典型的例子是卷积神经网络（Convolutional Neural Network，简称CNN）。这样做可以大大减少需要训练的参数数目。\n",
    "\n",
    "![14.png](https://i.loli.net/2018/10/17/5bc72ce28d756.png)\n",
    "\n",
    "深度学习可以理解为一种特征学习（feature learning）或者表示学习（representation learning），无论是DBN还是CNN，都是通过多个隐层来把与输出目标联系不大的初始输入转化为与输出目标更加密切的表示，使原来只通过单层映射难以完成的任务变为可能。即通过多层处理，逐渐将初始的“低层”特征表示转化为“高层”特征表示，从而使得最后可以用简单的模型来完成复杂的学习任务。\n",
    "\n",
    "传统任务中，样本的特征需要人类专家来设计，这称为特征工程（feature engineering）。特征好坏对泛化性能有至关重要的影响。而深度学习为全自动数据分析带来了可能，可以自动产生更好的特征。"
   ]
  },
  {
   "cell_type": "markdown",
   "id": "dac2eaa8",
   "metadata": {},
   "source": [
    "# 练习"
   ]
  },
  {
   "cell_type": "markdown",
   "id": "9c7975c1",
   "metadata": {},
   "source": [
    "## <a href=\"neural_nets_with_keras.ipynb\">入门练习1</a>"
   ]
  }
 ],
 "metadata": {
  "hide_input": false,
  "kernelspec": {
   "display_name": "Python 3",
   "language": "python",
   "name": "python3"
  },
  "language_info": {
   "codemirror_mode": {
    "name": "ipython",
    "version": 3
   },
   "file_extension": ".py",
   "mimetype": "text/x-python",
   "name": "python",
   "nbconvert_exporter": "python",
   "pygments_lexer": "ipython3",
   "version": "3.8.8"
  },
  "toc": {
   "base_numbering": 1,
   "nav_menu": {},
   "number_sections": true,
   "sideBar": true,
   "skip_h1_title": false,
   "title_cell": "Table of Contents",
   "title_sidebar": "Contents",
   "toc_cell": true,
   "toc_position": {},
   "toc_section_display": true,
   "toc_window_display": true
  },
  "varInspector": {
   "cols": {
    "lenName": 16,
    "lenType": 16,
    "lenVar": 40
   },
   "kernels_config": {
    "python": {
     "delete_cmd_postfix": "",
     "delete_cmd_prefix": "del ",
     "library": "var_list.py",
     "varRefreshCmd": "print(var_dic_list())"
    },
    "r": {
     "delete_cmd_postfix": ") ",
     "delete_cmd_prefix": "rm(",
     "library": "var_list.r",
     "varRefreshCmd": "cat(var_dic_list()) "
    }
   },
   "types_to_exclude": [
    "module",
    "function",
    "builtin_function_or_method",
    "instance",
    "_Feature"
   ],
   "window_display": false
  }
 },
 "nbformat": 4,
 "nbformat_minor": 5
}
